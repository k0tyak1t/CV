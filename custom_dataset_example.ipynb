{
 "cells": [
  {
   "cell_type": "code",
   "outputs": [
    {
     "name": "stdout",
     "output_type": "stream",
     "text": [
      "device: cuda\n"
     ]
    }
   ],
   "source": [
    "import os\n",
    "\n",
    "import torch\n",
    "import numpy as np\n",
    "\n",
    "from torch.utils.data import Dataset, DataLoader\n",
    "from torch import nn\n",
    "from torch.nn import functional as F\n",
    "\n",
    "import pandas as pd\n",
    "import matplotlib.pyplot as plt\n",
    "import seaborn as sns\n",
    "\n",
    "\n",
    "sns.set_theme(style='whitegrid')\n",
    "\n",
    "device = torch.device('cuda' if torch.cuda.is_available() else 'cpu')\n",
    "print(f\"device: {device}\")"
   ],
   "metadata": {
    "collapsed": false,
    "ExecuteTime": {
     "end_time": "2024-05-24T02:09:33.218370600Z",
     "start_time": "2024-05-24T02:09:28.358438700Z"
    }
   },
   "id": "6bee37dc5398ea82",
   "execution_count": 2
  },
  {
   "cell_type": "code",
   "outputs": [
    {
     "data": {
      "text/plain": "                        name       0.0       0.2       0.4       0.6  \\\n0  15_10_2022 (Usk DA 67) SL  0.007351  0.007263  0.007172  0.007077   \n1  15_10_2022 (Usk DA 67) SL  0.005696  0.005715  0.005735  0.005755   \n2  29_09_2022 (Kos PV 54) SL  0.022135  0.023749  0.025386  0.027042   \n\n        0.8       1.0       1.2       1.4       1.6  ...     117.2     117.4  \\\n0  0.006982  0.006884  0.006814  0.006773  0.006749  ...  0.168498  0.168498   \n1  0.005776  0.005798  0.005821  0.005846  0.005872  ...  0.120602  0.120602   \n2  0.028800  0.030638  0.032025  0.032918  0.033549  ...  0.146193  0.146193   \n\n      117.6     117.8     118.0     118.2     118.4     118.6  stage  target  \n0  0.168498  0.168498  0.168498  0.168498  0.168498  0.168498      1       0  \n1  0.120602  0.120602  0.120602  0.120602  0.120602  0.120602      2       0  \n2  0.146193  0.146193  0.146193  0.146193  0.146193  0.146193      1       0  \n\n[3 rows x 597 columns]",
      "text/html": "<div>\n<style scoped>\n    .dataframe tbody tr th:only-of-type {\n        vertical-align: middle;\n    }\n\n    .dataframe tbody tr th {\n        vertical-align: top;\n    }\n\n    .dataframe thead th {\n        text-align: right;\n    }\n</style>\n<table border=\"1\" class=\"dataframe\">\n  <thead>\n    <tr style=\"text-align: right;\">\n      <th></th>\n      <th>name</th>\n      <th>0.0</th>\n      <th>0.2</th>\n      <th>0.4</th>\n      <th>0.6</th>\n      <th>0.8</th>\n      <th>1.0</th>\n      <th>1.2</th>\n      <th>1.4</th>\n      <th>1.6</th>\n      <th>...</th>\n      <th>117.2</th>\n      <th>117.4</th>\n      <th>117.6</th>\n      <th>117.8</th>\n      <th>118.0</th>\n      <th>118.2</th>\n      <th>118.4</th>\n      <th>118.6</th>\n      <th>stage</th>\n      <th>target</th>\n    </tr>\n  </thead>\n  <tbody>\n    <tr>\n      <th>0</th>\n      <td>15_10_2022 (Usk DA 67) SL</td>\n      <td>0.007351</td>\n      <td>0.007263</td>\n      <td>0.007172</td>\n      <td>0.007077</td>\n      <td>0.006982</td>\n      <td>0.006884</td>\n      <td>0.006814</td>\n      <td>0.006773</td>\n      <td>0.006749</td>\n      <td>...</td>\n      <td>0.168498</td>\n      <td>0.168498</td>\n      <td>0.168498</td>\n      <td>0.168498</td>\n      <td>0.168498</td>\n      <td>0.168498</td>\n      <td>0.168498</td>\n      <td>0.168498</td>\n      <td>1</td>\n      <td>0</td>\n    </tr>\n    <tr>\n      <th>1</th>\n      <td>15_10_2022 (Usk DA 67) SL</td>\n      <td>0.005696</td>\n      <td>0.005715</td>\n      <td>0.005735</td>\n      <td>0.005755</td>\n      <td>0.005776</td>\n      <td>0.005798</td>\n      <td>0.005821</td>\n      <td>0.005846</td>\n      <td>0.005872</td>\n      <td>...</td>\n      <td>0.120602</td>\n      <td>0.120602</td>\n      <td>0.120602</td>\n      <td>0.120602</td>\n      <td>0.120602</td>\n      <td>0.120602</td>\n      <td>0.120602</td>\n      <td>0.120602</td>\n      <td>2</td>\n      <td>0</td>\n    </tr>\n    <tr>\n      <th>2</th>\n      <td>29_09_2022 (Kos PV 54) SL</td>\n      <td>0.022135</td>\n      <td>0.023749</td>\n      <td>0.025386</td>\n      <td>0.027042</td>\n      <td>0.028800</td>\n      <td>0.030638</td>\n      <td>0.032025</td>\n      <td>0.032918</td>\n      <td>0.033549</td>\n      <td>...</td>\n      <td>0.146193</td>\n      <td>0.146193</td>\n      <td>0.146193</td>\n      <td>0.146193</td>\n      <td>0.146193</td>\n      <td>0.146193</td>\n      <td>0.146193</td>\n      <td>0.146193</td>\n      <td>1</td>\n      <td>0</td>\n    </tr>\n  </tbody>\n</table>\n<p>3 rows × 597 columns</p>\n</div>"
     },
     "execution_count": 4,
     "metadata": {},
     "output_type": "execute_result"
    }
   ],
   "source": [
    "df = pd.read_csv('denoised.csv', index_col=0)\n",
    "df.head(3)"
   ],
   "metadata": {
    "collapsed": false,
    "ExecuteTime": {
     "end_time": "2024-05-24T02:09:43.654986800Z",
     "start_time": "2024-05-24T02:09:43.579522100Z"
    }
   },
   "id": "431e97f7d67a5def",
   "execution_count": 4
  },
  {
   "cell_type": "markdown",
   "source": [
    "Данные таблицы - интенсивность сигнала некого силового метода аналитической химии (известно, какого), значение целевого параметра и стадия (до - 1, после - 2)\n",
    "Суть эксперимента: регистрируется спектр слюны опытной группы, после чего проводится некий психологический эксперимент, затем снимается спект слюны после \n",
    "эксперимента. Необходимо построить модель, которая могла бы оценить, болен ли член опытной группы болезнью X (1 - да, 0 - нет).\n",
    "\n",
    "\n",
    "Что нужно от датасета ниже:\n",
    "1) выдавать данные по стадиям и таргет (до, после, таргет)\n",
    "2) возможность добавить аугментацию для данных (например, добавить шум)"
   ],
   "metadata": {
    "collapsed": false
   },
   "id": "bfb77d56db9e062f"
  },
  {
   "cell_type": "code",
   "outputs": [],
   "source": [
    "class StagedDataset(Dataset):\n",
    "    def __init__(self, df: pd.DataFrame,\n",
    "                 features_cols: list[str] = None,\n",
    "                 target: str = None, augment: bool = True,\n",
    "                 noise_lvl=2e-3):\n",
    "        super(StagedDataset, self).__init__()\n",
    "\n",
    "        self.data = [*df.groupby('name')]\n",
    "        self.augment = augment\n",
    "        self.len_ = len(self.data)\n",
    "        self.features_cols = features_cols or df.columns.drop(['name', 'target', 'stage'])\n",
    "        self.target = target or 'target'\n",
    "        self.T_ = [float(x) for x in self.features_cols]\n",
    "        self.noise_lvl = noise_lvl\n",
    "\n",
    "    def apply_noise(self, x, noise_f=np.random.normal):\n",
    "        return x + noise_f(0, self.noise_lvl, x.shape)\n",
    "\n",
    "    @staticmethod\n",
    "    def prepare_data(*data):\n",
    "        return [torch.tensor(x, dtype=torch.float32) for x in data]\n",
    "\n",
    "    def __getitem__(self, index):\n",
    "        name, sample_df = self.data[index]\n",
    "\n",
    "        s1, s2 = sample_df[self.features_cols].values\n",
    "        target = sample_df[self.target].values[0].item()\n",
    "        if self.augment:\n",
    "            s1 = self.apply_noise(s1)\n",
    "            s2 = self.apply_noise(s2)\n",
    "\n",
    "        return self.prepare_data(s1, s2, target)\n",
    "\n",
    "    def __len__(self):\n",
    "        return self.len_\n",
    "\n",
    "    def get_num_features(self):\n",
    "        return len(self.features_cols)"
   ],
   "metadata": {
    "collapsed": false
   },
   "id": "279cdba220ec3eee"
  }
 ],
 "metadata": {
  "kernelspec": {
   "display_name": "Python 3",
   "language": "python",
   "name": "python3"
  },
  "language_info": {
   "codemirror_mode": {
    "name": "ipython",
    "version": 2
   },
   "file_extension": ".py",
   "mimetype": "text/x-python",
   "name": "python",
   "nbconvert_exporter": "python",
   "pygments_lexer": "ipython2",
   "version": "2.7.6"
  }
 },
 "nbformat": 4,
 "nbformat_minor": 5
}
